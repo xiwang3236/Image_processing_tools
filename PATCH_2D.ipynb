{
 "cells": [
  {
   "cell_type": "code",
   "execution_count": 1,
   "metadata": {},
   "outputs": [
    {
     "name": "stdout",
     "output_type": "stream",
     "text": [
      "Image shape: (2478, 1560)\n",
      "Data type: uint8\n",
      "Min value: 1\n",
      "Max value: 255\n",
      "Mean value: 32.80462350737775\n"
     ]
    }
   ],
   "source": [
    "import tifffile\n",
    "import numpy as np\n",
    "\n",
    "\n",
    "# In there upload the image you want split\n",
    "# original_image = tifffile.imread(r'G:\\Alexis_data\\Project\\FISH\\input\\Heart2_round3_DAPI_resliced-q1-z1_cp_masks.tif')\n",
    "\n",
    "original_image = tifffile.imread(r'input\\segmentation\\Test_2DS_E3H5_Round1_DAPI_inference_merged_8bit-2.tif')\n",
    "\n",
    "# Print image shape and data type\n",
    "print(f\"Image shape: {original_image.shape}\")\n",
    "print(f\"Data type: {original_image.dtype}\")\n",
    "\n",
    "# Display basic statistics\n",
    "print(f\"Min value: {np.min(original_image)}\")\n",
    "print(f\"Max value: {np.max(original_image)}\")\n",
    "print(f\"Mean value: {np.mean(original_image)}\")"
   ]
  },
  {
   "cell_type": "code",
   "execution_count": 2,
   "metadata": {},
   "outputs": [],
   "source": [
    "def segment_2d_with_coordinates(data, partition_h=5, partition_w=6):\n",
    "    \"\"\"\n",
    "    Segments 2D data and returns both segments and their coordinates\n",
    "\n",
    "    Args:\n",
    "        data: 2D array to be segmented\n",
    "        partition_h: Number of horizontal partitions\n",
    "        partition_w: Number of vertical partitions\n",
    "\n",
    "    Returns:\n",
    "        main_segments: list of regular-sized segments\n",
    "        main_coordinates: list of (h_start, h_end, w_start, w_end)\n",
    "        leftover_segments: list of leftover segments\n",
    "        leftover_coordinates: list of coordinates for leftover segments\n",
    "    \"\"\"\n",
    "    height, width = data.shape\n",
    "\n",
    "    # Calculate segment sizes\n",
    "    height_size = height // partition_h\n",
    "    width_size = width // partition_w\n",
    "\n",
    "    main_segments = []\n",
    "    main_coordinates = []\n",
    "    leftover_segments = []\n",
    "    leftover_coordinates = []\n",
    "\n",
    "    # Extract main segments with coordinates\n",
    "    for h in range(partition_h):\n",
    "        for w in range(partition_w):\n",
    "            h_start = h * height_size\n",
    "            h_end = (h + 1) * height_size\n",
    "            w_start = w * width_size\n",
    "            w_end = (w + 1) * width_size\n",
    "\n",
    "            segment = data[h_start:h_end, w_start:w_end]\n",
    "            main_segments.append(segment)\n",
    "            main_coordinates.append((h_start, h_end, w_start, w_end))\n",
    "\n",
    "    # Handle leftover in height\n",
    "    if height % height_size != 0:\n",
    "        h_start = partition_h * height_size\n",
    "        h_end = height\n",
    "        w_end = width_size * partition_w\n",
    "\n",
    "        leftover_h = data[h_start:h_end, :w_end]\n",
    "        if leftover_h.size > 0:\n",
    "            leftover_segments.append(leftover_h)\n",
    "            leftover_coordinates.append((h_start, h_end, 0, w_end))\n",
    "\n",
    "    # Handle leftover in width\n",
    "    if width % width_size != 0:\n",
    "        h_end = height_size * partition_h\n",
    "        w_start = width_size * partition_w\n",
    "        w_end = width\n",
    "\n",
    "        leftover_w = data[:h_end, w_start:w_end]\n",
    "        if leftover_w.size > 0:\n",
    "            leftover_segments.append(leftover_w)\n",
    "            leftover_coordinates.append((0, h_end, w_start, w_end))\n",
    "\n",
    "    return main_segments, main_coordinates, leftover_segments, leftover_coordinates\n"
   ]
  },
  {
   "cell_type": "code",
   "execution_count": 11,
   "metadata": {},
   "outputs": [],
   "source": [
    "# call the function\n",
    "main_segments, main_coords, leftover_segments, leftover_coords = segment_2d_with_coordinates(\n",
    "    original_image,\n",
    "    partition_h = 2,\n",
    "    partition_w = 1,\n",
    "    )"
   ]
  },
  {
   "cell_type": "code",
   "execution_count": 12,
   "metadata": {},
   "outputs": [
    {
     "name": "stdout",
     "output_type": "stream",
     "text": [
      "Original data shape: (2478, 1560)\n",
      "Number of main segments: 2\n",
      "\n",
      "Main segment coordinates:\n",
      "Segment 0: (0, 1239, 0, 1560)\n",
      "Segment 1: (1239, 2478, 0, 1560)\n",
      "\n",
      "Leftover segment coordinates:\n"
     ]
    }
   ],
   "source": [
    "# Print results\n",
    "print(f\"Original data shape: {original_image.shape}\")\n",
    "print(f\"Number of main segments: {len(main_segments)}\")\n",
    "print(\"\\nMain segment coordinates:\")\n",
    "for i, coords in enumerate(main_coords):\n",
    "    print(f\"Segment {i}: {coords}\")\n",
    "\n",
    "print(\"\\nLeftover segment coordinates:\")\n",
    "for i, coords in enumerate(leftover_coords):\n",
    "    print(f\"Leftover {i}: {coords}\")"
   ]
  },
  {
   "cell_type": "code",
   "execution_count": 13,
   "metadata": {},
   "outputs": [],
   "source": [
    "def adjust_segments(main_coords, leftover_coords, image_shape, overlap_percentage=0.1 / 2):\n",
    "    \"\"\"\n",
    "    Adjust the segment coordinates with specified expansion or contraction.\n",
    "\n",
    "    Parameters:\n",
    "        main_coords (list of tuples): Original main segment coordinates.\n",
    "        leftover_coords (list of tuples): Original leftover segment coordinates.\n",
    "        image_shape (tuple): Shape of the original image as (height, width).\n",
    "\n",
    "    Returns:\n",
    "        adjusted_main_coords (list of tuples): Adjusted main segment coordinates.\n",
    "        adjusted_leftover_coords (list of tuples): Adjusted leftover segment coordinates.\n",
    "    \"\"\"\n",
    "    height_max, width_max = image_shape\n",
    "\n",
    "    height_overlap = int(overlap_percentage * height_max)\n",
    "    width_overlap = int(overlap_percentage * width_max)\n",
    "\n",
    "    # Adjust main segment coordinates\n",
    "    adjusted_main_coords = []\n",
    "    for i, (h_start, h_end, w_start, w_end) in enumerate(main_coords):\n",
    "        h_start_adj = max(0, h_start - height_overlap)\n",
    "        h_end_adj = min(height_max, h_end + height_overlap)\n",
    "        w_start_adj = max(0, w_start - width_overlap)\n",
    "        w_end_adj = min(width_max, w_end + width_overlap)\n",
    "\n",
    "        # If boundary constraints apply, adjust\n",
    "        if h_end_adj == height_max:\n",
    "            h_end_adj = height_max\n",
    "        if w_end_adj == width_max:\n",
    "            w_end_adj = width_max\n",
    "\n",
    "        adjusted_main_coords.append((h_start_adj, h_end_adj, w_start_adj, w_end_adj))\n",
    "\n",
    "    # Adjust leftover segment coordinates\n",
    "    adjusted_leftover_coords = []\n",
    "    for i, (h_start, h_end, w_start, w_end) in enumerate(leftover_coords):\n",
    "        # Assume leftover segments retain original coordinates but apply boundaries\n",
    "        h_start_adj = h_start\n",
    "        h_end_adj = height_max if h_end == height_max else h_end\n",
    "        w_start_adj = w_start\n",
    "        w_end_adj = width_max if w_end == width_max else w_end\n",
    "\n",
    "        adjusted_leftover_coords.append((h_start_adj, h_end_adj, w_start_adj, w_end_adj))\n",
    "\n",
    "    return adjusted_main_coords, adjusted_leftover_coords\n"
   ]
  },
  {
   "cell_type": "code",
   "execution_count": 14,
   "metadata": {},
   "outputs": [
    {
     "name": "stdout",
     "output_type": "stream",
     "text": [
      "Adjusted Main Segment Coordinates:\n",
      "Segment 0: (0, 1362, 0, 1560)\n",
      "Segment 1: (1116, 2478, 0, 1560)\n",
      "\n",
      "Adjusted Leftover Segment Coordinates:\n"
     ]
    }
   ],
   "source": [
    "original_image_shape = original_image.shape\n",
    "\n",
    "adjusted_main, adjusted_leftover = adjust_segments(main_coords, leftover_coords, original_image_shape)\n",
    "\n",
    "# Print adjusted results\n",
    "print(\"Adjusted Main Segment Coordinates:\")\n",
    "for i, coords in enumerate(adjusted_main):\n",
    "    print(f\"Segment {i}: {coords}\")\n",
    "\n",
    "print(\"\\nAdjusted Leftover Segment Coordinates:\")\n",
    "for i, coords in enumerate(adjusted_leftover):\n",
    "    print(f\"Leftover {i}: {coords}\")\n"
   ]
  },
  {
   "cell_type": "code",
   "execution_count": 19,
   "metadata": {},
   "outputs": [],
   "source": [
    "import matplotlib.pyplot as plt\n",
    "\n",
    "def visualize_segments(main_coords, adjusted_main, image_shape):\n",
    "    \"\"\"\n",
    "    Visualize 2D segments (original and adjusted) using matplotlib.\n",
    "\n",
    "    Parameters:\n",
    "        main_coords (list of tuples): Original main segment coordinates.\n",
    "        adjusted_main (list of tuples): Adjusted main segment coordinates.\n",
    "        image_shape (tuple): Shape of the original image as (height, width).\n",
    "\n",
    "    \"\"\"\n",
    "    fig, ax = plt.subplots(figsize=(6, 5))\n",
    "\n",
    "    # Draw original segments in blue\n",
    "    for coords in main_coords:\n",
    "        h_start, h_end, w_start, w_end = coords\n",
    "        rect = plt.Rectangle((w_start, h_start), w_end - w_start, h_end - h_start, \n",
    "                             edgecolor='blue', fill=False, linewidth=1, label='Original' if coords == main_coords[0] else \"\")\n",
    "        ax.add_patch(rect)\n",
    "\n",
    "    # Draw adjusted segments in red\n",
    "    for coords in adjusted_main:\n",
    "        h_start, h_end, w_start, w_end = coords\n",
    "        rect = plt.Rectangle((w_start, h_start), w_end - w_start, h_end - h_start, \n",
    "                             edgecolor='red', fill=False, linewidth=1, linestyle='--', label='Adjusted' if coords == adjusted_main[0] else \"\")\n",
    "        ax.add_patch(rect)\n",
    "\n",
    "    # Set labels and show plot\n",
    "    ax.set_xlim(0, image_shape[1])\n",
    "    ax.set_ylim(image_shape[0], 0)\n",
    "    ax.set_xlabel('Width (pixels)')\n",
    "    ax.set_ylabel('Height (pixels)')\n",
    "    ax.set_title('2D Segments Visualization (Original and Adjusted)')\n",
    "    ax.legend()\n",
    "    plt.show()\n"
   ]
  },
  {
   "cell_type": "code",
   "execution_count": 20,
   "metadata": {},
   "outputs": [
    {
     "data": {
      "image/png": "[encoded data removed]",
      "text/plain": [
       "<Figure size 600x500 with 1 Axes>"
      ]
     },
     "metadata": {},
     "output_type": "display_data"
    }
   ],
   "source": [
    "image_shape = (2478, 1560)\n",
    "visualize_segments(main_coords, adjusted_main, image_shape)"
   ]
  },
  {
   "cell_type": "code",
   "execution_count": 21,
   "metadata": {},
   "outputs": [
    {
     "data": {
      "text/plain": [
       "[(0, 1362, 0, 1560), (1116, 2478, 0, 1560)]"
      ]
     },
     "execution_count": 21,
     "metadata": {},
     "output_type": "execute_result"
    }
   ],
   "source": [
    "adjusted_main"
   ]
  },
  {
   "cell_type": "code",
   "execution_count": 22,
   "metadata": {},
   "outputs": [
    {
     "name": "stdout",
     "output_type": "stream",
     "text": [
      "Cropping section 0...\n",
      "Cropping section 1...\n",
      "2 cropped images saved successfully.\n"
     ]
    }
   ],
   "source": [
    "import matplotlib.pyplot as plt\n",
    "import numpy as np\n",
    "import tifffile as tiff\n",
    "\n",
    "# Load the 2D image\n",
    "image = original_image\n",
    "\n",
    "\n",
    "# Process each crop\n",
    "cropped_images = []\n",
    "for i, (h_start, h_end, w_start, w_end) in enumerate(adjusted_main):\n",
    "    print(f\"Cropping section {i}...\")\n",
    "    cropped = image[h_start:h_end, w_start:w_end]\n",
    "    cropped_images.append(cropped)\n",
    "    # Save each cropped section\n",
    "    tiff.imwrite(f'output/test/2D_patch_test_{i}.tif', cropped)\n",
    "\n",
    "print(f\"{len(cropped_images)} cropped images saved successfully.\")\n"
   ]
  }
 ],
 "metadata": {
  "kernelspec": {
   "display_name": "Python 3",
   "language": "python",
   "name": "python3"
  },
  "language_info": {
   "codemirror_mode": {
    "name": "ipython",
    "version": 3
   },
   "file_extension": ".py",
   "mimetype": "text/x-python",
   "name": "python",
   "nbconvert_exporter": "python",
   "pygments_lexer": "ipython3",
   "version": "3.11.10"
  }
 },
 "nbformat": 4,
 "nbformat_minor": 2
}
