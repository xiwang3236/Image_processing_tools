{
  "cells": [
    {
      "cell_type": "code",
      "execution_count": 56,
      "metadata": {
        "colab": {
          "base_uri": "https://localhost:8080/"
        },
        "id": "lIE6krnLDB4i",
        "outputId": "d050c59a-1a26-4ce9-c7d7-f01bdc99bc3f"
      },
      "outputs": [],
      "source": [
        "# For colab training\n",
        "# from google.colab import drive\n",
        "# drive.mount('/content/drive')\n",
        "\n",
        "# import os\n",
        "# repo_path = '/content/drive/MyDrive/projects/Celpose'\n",
        "# if not os.path.exists(repo_path):\n",
        "#     os.makedirs(repo_path)\n",
        "# os.chdir(repo_path)\n",
        "\n",
        "# !pip install cellpose"
      ]
    },
    {
      "cell_type": "markdown",
      "metadata": {},
      "source": [
        "# Single file API segmentation test"
      ]
    },
    {
      "cell_type": "code",
      "execution_count": 57,
      "metadata": {
        "id": "16KkSuxN3ZAI"
      },
      "outputs": [],
      "source": [
        "image_input_file = r\"D:\\Junwoo\\Projects\\Image_processing_tools\\Image_processing_tools\\input\\cellpose\\E3H5_Round1_DAPI_tile2_inference.tif\""
      ]
    },
    {
      "cell_type": "code",
      "execution_count": 58,
      "metadata": {
        "colab": {
          "base_uri": "https://localhost:8080/"
        },
        "id": "a2ab1QyA3ZAK",
        "outputId": "a2c9f4b9-d29d-4cf7-bbb5-ad16c10ebfbc"
      },
      "outputs": [
        {
          "ename": "FileNotFoundError",
          "evalue": "[Errno 2] No such file or directory: 'D:\\\\Junwoo\\\\Projects\\\\Image_processing_tools\\\\Image_processing_tools\\\\input\\\\cellpose\\\\E3H5_Round1_DAPI_tile2_inference.tif'",
          "output_type": "error",
          "traceback": [
            "\u001b[1;31m---------------------------------------------------------------------------\u001b[0m",
            "\u001b[1;31mFileNotFoundError\u001b[0m                         Traceback (most recent call last)",
            "\u001b[1;32m~\\AppData\\Local\\Temp\\ipykernel_20840\\1622170676.py\u001b[0m in \u001b[0;36m?\u001b[1;34m()\u001b[0m\n\u001b[0;32m      1\u001b[0m \u001b[1;32mimport\u001b[0m \u001b[0mtifffile\u001b[0m\u001b[1;33m\u001b[0m\u001b[1;33m\u001b[0m\u001b[0m\n\u001b[0;32m      2\u001b[0m \u001b[1;32mimport\u001b[0m \u001b[0mmatplotlib\u001b[0m\u001b[1;33m.\u001b[0m\u001b[0mpyplot\u001b[0m \u001b[1;32mas\u001b[0m \u001b[0mplt\u001b[0m\u001b[1;33m\u001b[0m\u001b[1;33m\u001b[0m\u001b[0m\n\u001b[0;32m      3\u001b[0m \u001b[1;33m\u001b[0m\u001b[0m\n\u001b[0;32m      4\u001b[0m \u001b[1;31m# Read the image\u001b[0m\u001b[1;33m\u001b[0m\u001b[1;33m\u001b[0m\u001b[0m\n\u001b[1;32m----> 5\u001b[1;33m \u001b[0mimg\u001b[0m \u001b[1;33m=\u001b[0m \u001b[0mtifffile\u001b[0m\u001b[1;33m.\u001b[0m\u001b[0mimread\u001b[0m\u001b[1;33m(\u001b[0m\u001b[0mimage_input_file\u001b[0m\u001b[1;33m)\u001b[0m\u001b[1;33m\u001b[0m\u001b[1;33m\u001b[0m\u001b[0m\n\u001b[0m\u001b[0;32m      6\u001b[0m \u001b[1;33m\u001b[0m\u001b[0m\n\u001b[0;32m      7\u001b[0m \u001b[1;31m# Print the shape of the image\u001b[0m\u001b[1;33m\u001b[0m\u001b[1;33m\u001b[0m\u001b[0m\n\u001b[0;32m      8\u001b[0m \u001b[0mprint\u001b[0m\u001b[1;33m(\u001b[0m\u001b[1;34mf\"Image shape: {img.shape}\"\u001b[0m\u001b[1;33m)\u001b[0m\u001b[1;33m\u001b[0m\u001b[1;33m\u001b[0m\u001b[0m\n",
            "\u001b[1;32md:\\Junwoo\\Conda\\envs\\cellpose\\lib\\site-packages\\tifffile\\tifffile.py\u001b[0m in \u001b[0;36m?\u001b[1;34m(***failed resolving arguments***)\u001b[0m\n\u001b[0;32m   1217\u001b[0m \u001b[1;33m\u001b[0m\u001b[0m\n\u001b[0;32m   1218\u001b[0m         if isinstance(files, str) or not isinstance(\n\u001b[0;32m   1219\u001b[0m             \u001b[0mfiles\u001b[0m\u001b[1;33m,\u001b[0m \u001b[0mcollections\u001b[0m\u001b[1;33m.\u001b[0m\u001b[0mabc\u001b[0m\u001b[1;33m.\u001b[0m\u001b[0mSequence\u001b[0m\u001b[1;33m\u001b[0m\u001b[1;33m\u001b[0m\u001b[0m\n\u001b[0;32m   1220\u001b[0m         ):\n\u001b[1;32m-> 1221\u001b[1;33m             with TiffFile(\n\u001b[0m\u001b[0;32m   1222\u001b[0m                 \u001b[0mfiles\u001b[0m\u001b[1;33m,\u001b[0m\u001b[1;33m\u001b[0m\u001b[1;33m\u001b[0m\u001b[0m\n\u001b[0;32m   1223\u001b[0m                 \u001b[0mmode\u001b[0m\u001b[1;33m=\u001b[0m\u001b[0mmode\u001b[0m\u001b[1;33m,\u001b[0m\u001b[1;33m\u001b[0m\u001b[1;33m\u001b[0m\u001b[0m\n\u001b[0;32m   1224\u001b[0m                 \u001b[0mname\u001b[0m\u001b[1;33m=\u001b[0m\u001b[0mname\u001b[0m\u001b[1;33m,\u001b[0m\u001b[1;33m\u001b[0m\u001b[1;33m\u001b[0m\u001b[0m\n",
            "\u001b[1;32md:\\Junwoo\\Conda\\envs\\cellpose\\lib\\site-packages\\tifffile\\tifffile.py\u001b[0m in \u001b[0;36m?\u001b[1;34m(self, file, mode, name, offset, size, omexml, _multifile, _useframes, _parent, **is_flags)\u001b[0m\n\u001b[0;32m   4282\u001b[0m                 \u001b[1;32mraise\u001b[0m \u001b[0mValueError\u001b[0m\u001b[1;33m(\u001b[0m\u001b[1;34m'invalid OME-XML'\u001b[0m\u001b[1;33m)\u001b[0m\u001b[1;33m\u001b[0m\u001b[1;33m\u001b[0m\u001b[0m\n\u001b[0;32m   4283\u001b[0m             \u001b[0mself\u001b[0m\u001b[1;33m.\u001b[0m\u001b[0m_omexml\u001b[0m \u001b[1;33m=\u001b[0m \u001b[0momexml\u001b[0m\u001b[1;33m\u001b[0m\u001b[1;33m\u001b[0m\u001b[0m\n\u001b[0;32m   4284\u001b[0m             \u001b[0mself\u001b[0m\u001b[1;33m.\u001b[0m\u001b[0mis_ome\u001b[0m \u001b[1;33m=\u001b[0m \u001b[1;32mTrue\u001b[0m\u001b[1;33m\u001b[0m\u001b[1;33m\u001b[0m\u001b[0m\n\u001b[0;32m   4285\u001b[0m \u001b[1;33m\u001b[0m\u001b[0m\n\u001b[1;32m-> 4286\u001b[1;33m         \u001b[0mfh\u001b[0m \u001b[1;33m=\u001b[0m \u001b[0mFileHandle\u001b[0m\u001b[1;33m(\u001b[0m\u001b[0mfile\u001b[0m\u001b[1;33m,\u001b[0m \u001b[0mmode\u001b[0m\u001b[1;33m=\u001b[0m\u001b[0mmode\u001b[0m\u001b[1;33m,\u001b[0m \u001b[0mname\u001b[0m\u001b[1;33m=\u001b[0m\u001b[0mname\u001b[0m\u001b[1;33m,\u001b[0m \u001b[0moffset\u001b[0m\u001b[1;33m=\u001b[0m\u001b[0moffset\u001b[0m\u001b[1;33m,\u001b[0m \u001b[0msize\u001b[0m\u001b[1;33m=\u001b[0m\u001b[0msize\u001b[0m\u001b[1;33m)\u001b[0m\u001b[1;33m\u001b[0m\u001b[1;33m\u001b[0m\u001b[0m\n\u001b[0m\u001b[0;32m   4287\u001b[0m         \u001b[0mself\u001b[0m\u001b[1;33m.\u001b[0m\u001b[0m_fh\u001b[0m \u001b[1;33m=\u001b[0m \u001b[0mfh\u001b[0m\u001b[1;33m\u001b[0m\u001b[1;33m\u001b[0m\u001b[0m\n\u001b[0;32m   4288\u001b[0m         \u001b[0mself\u001b[0m\u001b[1;33m.\u001b[0m\u001b[0m_multifile\u001b[0m \u001b[1;33m=\u001b[0m \u001b[1;32mTrue\u001b[0m \u001b[1;32mif\u001b[0m \u001b[0m_multifile\u001b[0m \u001b[1;32mis\u001b[0m \u001b[1;32mNone\u001b[0m \u001b[1;32melse\u001b[0m \u001b[0mbool\u001b[0m\u001b[1;33m(\u001b[0m\u001b[0m_multifile\u001b[0m\u001b[1;33m)\u001b[0m\u001b[1;33m\u001b[0m\u001b[1;33m\u001b[0m\u001b[0m\n\u001b[0;32m   4289\u001b[0m         \u001b[0mself\u001b[0m\u001b[1;33m.\u001b[0m\u001b[0m_files\u001b[0m \u001b[1;33m=\u001b[0m \u001b[1;33m{\u001b[0m\u001b[0mfh\u001b[0m\u001b[1;33m.\u001b[0m\u001b[0mname\u001b[0m\u001b[1;33m:\u001b[0m \u001b[0mself\u001b[0m\u001b[1;33m}\u001b[0m\u001b[1;33m\u001b[0m\u001b[1;33m\u001b[0m\u001b[0m\n",
            "\u001b[1;32md:\\Junwoo\\Conda\\envs\\cellpose\\lib\\site-packages\\tifffile\\tifffile.py\u001b[0m in \u001b[0;36m?\u001b[1;34m(self, file, mode, name, offset, size)\u001b[0m\n\u001b[0;32m  14691\u001b[0m         \u001b[0mself\u001b[0m\u001b[1;33m.\u001b[0m\u001b[0m_offset\u001b[0m \u001b[1;33m=\u001b[0m \u001b[1;33m-\u001b[0m\u001b[1;36m1\u001b[0m \u001b[1;32mif\u001b[0m \u001b[0moffset\u001b[0m \u001b[1;32mis\u001b[0m \u001b[1;32mNone\u001b[0m \u001b[1;32melse\u001b[0m \u001b[0moffset\u001b[0m\u001b[1;33m\u001b[0m\u001b[1;33m\u001b[0m\u001b[0m\n\u001b[0;32m  14692\u001b[0m         \u001b[0mself\u001b[0m\u001b[1;33m.\u001b[0m\u001b[0m_size\u001b[0m \u001b[1;33m=\u001b[0m \u001b[1;33m-\u001b[0m\u001b[1;36m1\u001b[0m \u001b[1;32mif\u001b[0m \u001b[0msize\u001b[0m \u001b[1;32mis\u001b[0m \u001b[1;32mNone\u001b[0m \u001b[1;32melse\u001b[0m \u001b[0msize\u001b[0m\u001b[1;33m\u001b[0m\u001b[1;33m\u001b[0m\u001b[0m\n\u001b[0;32m  14693\u001b[0m         \u001b[0mself\u001b[0m\u001b[1;33m.\u001b[0m\u001b[0m_close\u001b[0m \u001b[1;33m=\u001b[0m \u001b[1;32mTrue\u001b[0m\u001b[1;33m\u001b[0m\u001b[1;33m\u001b[0m\u001b[0m\n\u001b[0;32m  14694\u001b[0m         \u001b[0mself\u001b[0m\u001b[1;33m.\u001b[0m\u001b[0m_lock\u001b[0m \u001b[1;33m=\u001b[0m \u001b[0mNullContext\u001b[0m\u001b[1;33m(\u001b[0m\u001b[1;33m)\u001b[0m\u001b[1;33m\u001b[0m\u001b[1;33m\u001b[0m\u001b[0m\n\u001b[1;32m> 14695\u001b[1;33m         \u001b[0mself\u001b[0m\u001b[1;33m.\u001b[0m\u001b[0mopen\u001b[0m\u001b[1;33m(\u001b[0m\u001b[1;33m)\u001b[0m\u001b[1;33m\u001b[0m\u001b[1;33m\u001b[0m\u001b[0m\n\u001b[0m\u001b[0;32m  14696\u001b[0m         \u001b[1;32massert\u001b[0m \u001b[0mself\u001b[0m\u001b[1;33m.\u001b[0m\u001b[0m_fh\u001b[0m \u001b[1;32mis\u001b[0m \u001b[1;32mnot\u001b[0m \u001b[1;32mNone\u001b[0m\u001b[1;33m\u001b[0m\u001b[1;33m\u001b[0m\u001b[0m\n",
            "\u001b[1;32md:\\Junwoo\\Conda\\envs\\cellpose\\lib\\site-packages\\tifffile\\tifffile.py\u001b[0m in \u001b[0;36m?\u001b[1;34m(self)\u001b[0m\n\u001b[0;32m  14710\u001b[0m             \u001b[1;32mif\u001b[0m \u001b[0mself\u001b[0m\u001b[1;33m.\u001b[0m\u001b[0m_mode\u001b[0m \u001b[1;32mnot\u001b[0m \u001b[1;32min\u001b[0m \u001b[1;33m{\u001b[0m\u001b[1;34m'rb'\u001b[0m\u001b[1;33m,\u001b[0m \u001b[1;34m'r+b'\u001b[0m\u001b[1;33m,\u001b[0m \u001b[1;34m'wb'\u001b[0m\u001b[1;33m,\u001b[0m \u001b[1;34m'xb'\u001b[0m\u001b[1;33m}\u001b[0m\u001b[1;33m:\u001b[0m\u001b[1;33m\u001b[0m\u001b[1;33m\u001b[0m\u001b[0m\n\u001b[0;32m  14711\u001b[0m                 \u001b[1;32mraise\u001b[0m \u001b[0mValueError\u001b[0m\u001b[1;33m(\u001b[0m\u001b[1;34mf'invalid mode {self._mode}'\u001b[0m\u001b[1;33m)\u001b[0m\u001b[1;33m\u001b[0m\u001b[1;33m\u001b[0m\u001b[0m\n\u001b[0;32m  14712\u001b[0m             \u001b[0mself\u001b[0m\u001b[1;33m.\u001b[0m\u001b[0m_file\u001b[0m \u001b[1;33m=\u001b[0m \u001b[0mos\u001b[0m\u001b[1;33m.\u001b[0m\u001b[0mpath\u001b[0m\u001b[1;33m.\u001b[0m\u001b[0mrealpath\u001b[0m\u001b[1;33m(\u001b[0m\u001b[0mself\u001b[0m\u001b[1;33m.\u001b[0m\u001b[0m_file\u001b[0m\u001b[1;33m)\u001b[0m\u001b[1;33m\u001b[0m\u001b[1;33m\u001b[0m\u001b[0m\n\u001b[0;32m  14713\u001b[0m             \u001b[0mself\u001b[0m\u001b[1;33m.\u001b[0m\u001b[0m_dir\u001b[0m\u001b[1;33m,\u001b[0m \u001b[0mself\u001b[0m\u001b[1;33m.\u001b[0m\u001b[0m_name\u001b[0m \u001b[1;33m=\u001b[0m \u001b[0mos\u001b[0m\u001b[1;33m.\u001b[0m\u001b[0mpath\u001b[0m\u001b[1;33m.\u001b[0m\u001b[0msplit\u001b[0m\u001b[1;33m(\u001b[0m\u001b[0mself\u001b[0m\u001b[1;33m.\u001b[0m\u001b[0m_file\u001b[0m\u001b[1;33m)\u001b[0m\u001b[1;33m\u001b[0m\u001b[1;33m\u001b[0m\u001b[0m\n\u001b[1;32m> 14714\u001b[1;33m             \u001b[0mself\u001b[0m\u001b[1;33m.\u001b[0m\u001b[0m_fh\u001b[0m \u001b[1;33m=\u001b[0m \u001b[0mopen\u001b[0m\u001b[1;33m(\u001b[0m\u001b[0mself\u001b[0m\u001b[1;33m.\u001b[0m\u001b[0m_file\u001b[0m\u001b[1;33m,\u001b[0m \u001b[0mself\u001b[0m\u001b[1;33m.\u001b[0m\u001b[0m_mode\u001b[0m\u001b[1;33m,\u001b[0m \u001b[0mencoding\u001b[0m\u001b[1;33m=\u001b[0m\u001b[1;32mNone\u001b[0m\u001b[1;33m)\u001b[0m\u001b[1;33m\u001b[0m\u001b[1;33m\u001b[0m\u001b[0m\n\u001b[0m\u001b[0;32m  14715\u001b[0m             \u001b[0mself\u001b[0m\u001b[1;33m.\u001b[0m\u001b[0m_close\u001b[0m \u001b[1;33m=\u001b[0m \u001b[1;32mTrue\u001b[0m\u001b[1;33m\u001b[0m\u001b[1;33m\u001b[0m\u001b[0m\n\u001b[0;32m  14716\u001b[0m             \u001b[0mself\u001b[0m\u001b[1;33m.\u001b[0m\u001b[0m_offset\u001b[0m \u001b[1;33m=\u001b[0m \u001b[0mmax\u001b[0m\u001b[1;33m(\u001b[0m\u001b[1;36m0\u001b[0m\u001b[1;33m,\u001b[0m \u001b[0mself\u001b[0m\u001b[1;33m.\u001b[0m\u001b[0m_offset\u001b[0m\u001b[1;33m)\u001b[0m\u001b[1;33m\u001b[0m\u001b[1;33m\u001b[0m\u001b[0m\n\u001b[0;32m  14717\u001b[0m         \u001b[1;32melif\u001b[0m \u001b[0misinstance\u001b[0m\u001b[1;33m(\u001b[0m\u001b[0mself\u001b[0m\u001b[1;33m.\u001b[0m\u001b[0m_file\u001b[0m\u001b[1;33m,\u001b[0m \u001b[0mFileHandle\u001b[0m\u001b[1;33m)\u001b[0m\u001b[1;33m:\u001b[0m\u001b[1;33m\u001b[0m\u001b[1;33m\u001b[0m\u001b[0m\n",
            "\u001b[1;31mFileNotFoundError\u001b[0m: [Errno 2] No such file or directory: 'D:\\\\Junwoo\\\\Projects\\\\Image_processing_tools\\\\Image_processing_tools\\\\input\\\\cellpose\\\\E3H5_Round1_DAPI_tile2_inference.tif'"
          ]
        }
      ],
      "source": [
        "import tifffile\n",
        "import matplotlib.pyplot as plt\n",
        "\n",
        "# Read the image\n",
        "img = tifffile.imread(image_input_file)\n",
        "\n",
        "# Print the shape of the image\n",
        "print(f\"Image shape: {img.shape}\")\n"
      ]
    },
    {
      "cell_type": "code",
      "execution_count": null,
      "metadata": {
        "colab": {
          "base_uri": "https://localhost:8080/",
          "height": 521
        },
        "id": "zZ2kk0W63ZAL",
        "outputId": "be8b3055-1ba8-4dd9-d529-8fa57f069e09"
      },
      "outputs": [],
      "source": [
        "# Specify the layer index to visualize (0-based indexing)\n",
        "layer_index = 300  # Change this to the specific layer you want to visualize\n",
        "\n",
        "# Check if the layer index is within bounds\n",
        "if 0 <= layer_index < img.shape[0]:\n",
        "    plt.figure(figsize=(6, 6))\n",
        "    plt.imshow(img[layer_index, :, :], cmap='gray')\n",
        "    plt.title(f'Layer {layer_index + 1}')\n",
        "    plt.axis('off')\n",
        "    plt.show()\n",
        "else:\n",
        "    print(f\"Invalid layer index: {layer_index}. Please choose a value between 0 and {img.shape[0] - 1}.\")\n"
      ]
    },
    {
      "cell_type": "code",
      "execution_count": 49,
      "metadata": {
        "id": "eA68NLMMvWRe"
      },
      "outputs": [],
      "source": [
        "from cellpose import denoise, models, io"
      ]
    },
    {
      "cell_type": "code",
      "execution_count": null,
      "metadata": {},
      "outputs": [],
      "source": [
        "\n",
        "# model set up\n",
        "denoise_model = denoise.DenoiseModel(gpu=True, model_type='denoise_nuclei',  diam_mean=20.0)\n",
        "model = models.CellposeModel(gpu=True, model_type = \"nuclei\" , diam_mean=20.0)\n",
        "\n",
        "\n",
        "# denoise\n",
        "imgs_dn = denoise_model.eval(img, batch_size=8,\n",
        "                            channel_axis=None,\n",
        "                            # z_axis=0,\n",
        "                            normalize=True,\n",
        "                            rescale=None,\n",
        "                            diameter=20,\n",
        "                            tile=True,\n",
        "                            do_3D=True,\n",
        "                            tile_overlap=0.1,\n",
        "                            bsize=224)\n",
        "\n",
        "# segmentation\n",
        "masks, flows, styles = model.eval(\n",
        "    x=imgs_dn,  # Your input image array\n",
        "    batch_size=8,\n",
        "    do_3D=True,       # Enable 3D segmentation\n",
        "    diameter=20.0,\n",
        "    channel_axis = None,\n",
        "    # anisotropy=2.0    # Adjust anisotropy if needed\n",
        ")\n",
        "\n",
        "print(\"output image shape is: \", masks.shape)\n",
        "\n",
        "# save the masks as tif file\n",
        "io.save_masks(\n",
        "    images=[img],  # List containing the image\n",
        "    masks=[masks],            # List containing the mask\n",
        "    flows=[flows],            # List containing the flows\n",
        "    file_names=['output/Cellpose_output'],  # Base filename for saving\n",
        "    png=False,                # Disable saving as PNG\n",
        "    tif=True,                 # Enable saving as TIFF\n",
        "    channels=[0, 0],           # Channels used in Cellpose\n",
        "    # ... other parameters if needed ...\n",
        ")\n",
        "\n",
        "# print(f\"Mask number n saved as 'cp_masks_{img_name}.tif'\")\n",
        "\n",
        "\n"
      ]
    },
    {
      "cell_type": "code",
      "execution_count": null,
      "metadata": {},
      "outputs": [],
      "source": [
        "# Add this before saving to debug\n",
        "print(\"Masks shape:\", masks.shape)\n",
        "print(\"Masks dtype:\", masks.dtype)"
      ]
    },
    {
      "cell_type": "code",
      "execution_count": null,
      "metadata": {
        "id": "ticIpIOHFcK2"
      },
      "outputs": [],
      "source": [
        "# # Save the segmentation output\n",
        "# io.masks_flows_to_seg(\n",
        "#     images=[img],  # List containing the image\n",
        "#     masks=[masks],            # List containing the mask\n",
        "#     flows=[flows],            # List containing the flows\n",
        "#     file_names=['Image_processing_tools/output/segmented_output_seg.npy'],  # Base filename for saving\n",
        "#     diams=30.0,              # Diameter used in Cellpose\n",
        "\n",
        "# )\n",
        "\n",
        "# print(\"Segmentation output saved to 'segmented_output_seg.npy'\")"
      ]
    },
    {
      "cell_type": "markdown",
      "metadata": {},
      "source": [
        "# For Loop training"
      ]
    },
    {
      "cell_type": "code",
      "execution_count": 59,
      "metadata": {},
      "outputs": [],
      "source": [
        "import os\n",
        "import glob\n",
        "import tifffile as tiff"
      ]
    },
    {
      "cell_type": "code",
      "execution_count": 60,
      "metadata": {},
      "outputs": [],
      "source": [
        "from cellpose import denoise, models, io"
      ]
    },
    {
      "cell_type": "code",
      "execution_count": 61,
      "metadata": {},
      "outputs": [],
      "source": [
        "# TODO test\n",
        "from skimage import measure \n",
        "import pandas as pd"
      ]
    },
    {
      "cell_type": "code",
      "execution_count": 62,
      "metadata": {},
      "outputs": [
        {
          "name": "stderr",
          "output_type": "stream",
          "text": [
            "d:\\Junwoo\\Conda\\envs\\cellpose\\lib\\site-packages\\cellpose\\resnet_torch.py:271: FutureWarning: You are using `torch.load` with `weights_only=False` (the current default value), which uses the default pickle module implicitly. It is possible to construct malicious pickle data which will execute arbitrary code during unpickling (See https://github.com/pytorch/pytorch/blob/main/SECURITY.md#untrusted-models for more details). In a future release, the default value for `weights_only` will be flipped to `True`. This limits the functions that could be executed during unpickling. Arbitrary objects will no longer be allowed to be loaded via this mode unless they are explicitly allowlisted by the user via `torch.serialization.add_safe_globals`. We recommend you start setting `weights_only=True` for any use case where you don't have full control of the loaded file. Please open an issue on GitHub for any issues related to this experimental feature.\n",
            "  state_dict = torch.load(filename, map_location=device)\n"
          ]
        }
      ],
      "source": [
        "# Initialize models at the beginning\n",
        "denoise_model = denoise.DenoiseModel(gpu=True, model_type='denoise_nuclei', diam_mean=19.0)\n",
        "cellpose_model = models.CellposeModel(gpu=True, model_type='nuclei', diam_mean=19.0)"
      ]
    },
    {
      "cell_type": "code",
      "execution_count": 64,
      "metadata": {},
      "outputs": [],
      "source": [
        "def denoise_and_segment_image(img, img_name, output_path, denoise_model, cellpose_model):\n",
        "    \"\"\"\n",
        "    Perform denoising and segmentation on a 3D image using Cellpose.\n",
        "\n",
        "    Parameters:\n",
        "    - img (numpy.ndarray): Input image array to process.\n",
        "    - img_name (str): Name of the input image (for logging and saving purposes).\n",
        "    - output_path (str): Base path to save the output.\n",
        "    - denoise_model: Pre-initialized denoising model.\n",
        "    - cellpose_model: Pre-initialized Cellpose segmentation model.\n",
        "\n",
        "    Returns:\n",
        "    None\n",
        "    \"\"\"\n",
        "    # Display input image information\n",
        "    print(f\"Processing file: {img_name}, shape: {img.shape}\")\n",
        "\n",
        "    # Perform denoising\n",
        "    imgs_dn = denoise_model.eval(\n",
        "        img,\n",
        "        batch_size=4,\n",
        "        channel_axis=None,\n",
        "        normalize=True,\n",
        "        rescale=None,\n",
        "        diameter=19, # denoise_model.diam_mean\n",
        "        tile=True,\n",
        "        do_3D=True,\n",
        "        tile_overlap=0.1,\n",
        "        bsize=224\n",
        "    )\n",
        "\n",
        "    print(\"Denoise Down!\")\n",
        "\n",
        "    # Perform segmentation\n",
        "    masks, flows, styles = cellpose_model.eval(\n",
        "        x=imgs_dn,\n",
        "        batch_size=8,\n",
        "        do_3D=True,\n",
        "        diameter=cellpose_model.diam_mean,\n",
        "        channel_axis=None\n",
        "    )\n",
        "\n",
        "    print(\"Mask Segmentation Down!\")\n",
        "\n",
        "    # Export centroids\n",
        "    props = measure.regionprops_table['centroid', 'area']\n",
        "    props_dataframe = pd.DataFrame(props)\n",
        "    c_output_path = os.path.join(output_path, \"_centroids.csv\")\n",
        "\n",
        "    props_dataframe.to_csv(c_output_path)\n",
        "\n",
        "    print(\"Get Centroids Down!\")\n",
        "\n",
        "    # Save the masks as TIFF files\n",
        "    io.save_masks(\n",
        "        images=[img],\n",
        "        masks=[masks],\n",
        "        flows=[flows],\n",
        "        file_names=[output_path],\n",
        "        png=False,\n",
        "        tif=True,\n",
        "        channels=[0, 0]\n",
        "    )\n",
        "\n",
        "\n",
        "\n",
        "    \n",
        "\n",
        "\n"
      ]
    },
    {
      "cell_type": "code",
      "execution_count": 65,
      "metadata": {},
      "outputs": [],
      "source": [
        "def process_images_in_folder(input_folder, output_folder, denoise_model, cellpose_model):\n",
        "    \"\"\"\n",
        "    Process all TIF images in a folder: denoise, segment, and save the output.\n",
        "\n",
        "    Parameters:\n",
        "    - input_folder (str): Path to the folder containing input images.\n",
        "    - output_folder (str): Path to save the processed output images.\n",
        "    - denoise_model: Pre-initialized denoising model.\n",
        "    - cellpose_model: Pre-initialized Cellpose segmentation model.\n",
        "\n",
        "    Returns:\n",
        "    None\n",
        "    \"\"\"\n",
        "    i = 0\n",
        "\n",
        "    # Ensure the output folder exists\n",
        "    os.makedirs(output_folder, exist_ok=True)\n",
        "\n",
        "    # Find all TIF files in the input folder\n",
        "    file_paths = glob.glob(os.path.join(input_folder, \"*.tif\"))\n",
        "\n",
        "    for file_path in file_paths:\n",
        "        \n",
        "        # Read the image\n",
        "        # print(\"file_path:\", file_path)\n",
        "        img = tiff.imread(file_path)\n",
        "\n",
        "        # Get the base file name\n",
        "        file_name = os.path.basename(file_path)\n",
        "        # print(\"file_name:\", file_name)\n",
        "\n",
        "        file_base = os.path.splitext(file_name)[0]\n",
        "        # print(\"file_base:\", file_base)\n",
        "\n",
        "        file_base = \"cp_masks_\" + file_base\n",
        "        # print(\"file_base2:\", file_base)\n",
        "\n",
        "        # Define the output path for the current image\n",
        "        output_path = os.path.join(output_folder, file_base)\n",
        "        # print(\"output_path:\", output_path)\n",
        "\n",
        "        # Print the file name\n",
        "        print(f\"Processing image {i}\")\n",
        "\n",
        "        img_name = file_name\n",
        "        \n",
        "        # Run the denoise and segmentation function\n",
        "        denoise_and_segment_image(\n",
        "            img=img,\n",
        "            img_name=file_name,\n",
        "            output_path=output_path,   \n",
        "            denoise_model=denoise_model,\n",
        "            cellpose_model=cellpose_model\n",
        "        )\n",
        "\n",
        "        i += 1\n",
        "\n",
        "        print(f\"Output of [{img_name}] saved as: {output_path}\")\n"
      ]
    },
    {
      "cell_type": "code",
      "execution_count": 44,
      "metadata": {},
      "outputs": [],
      "source": [
        "# TODO test\n",
        "def process_images_in_folder(input_folder, output_folder, denoise_model, cellpose_model):\n",
        "    \"\"\"\n",
        "    Process all TIF images in a folder: denoise, segment, and save the output.\n",
        "    \"\"\"\n",
        "    i = 0\n",
        "\n",
        "    # Ensure the output folder exists\n",
        "    os.makedirs(output_folder, exist_ok=True)\n",
        "    print(f\"Output folder created/verified: {output_folder}\")\n",
        "\n",
        "    # Find all TIF files in the input folder\n",
        "    file_paths = glob.glob(os.path.join(input_folder, \"*.tif\"))\n",
        "    print(f\"Found {len(file_paths)} TIF files in input folder\")\n",
        "\n",
        "    for file_path in file_paths:\n",
        "        try:\n",
        "            # Read the image\n",
        "            print(f\"\\nProcessing file: {file_path}\")\n",
        "            img = tiff.imread(file_path)\n",
        "            print(f\"Image shape: {img.shape}\")\n",
        "\n",
        "            # Get the base file name\n",
        "            file_name = os.path.basename(file_path)\n",
        "            file_base = os.path.splitext(file_name)[0]\n",
        "            file_base = \"cp_masks_\" + file_base\n",
        "            output_path = os.path.join(output_folder, file_base)\n",
        "\n",
        "            print(f\"Processing image {i}: {file_name}\")\n",
        "            print(f\"Output will be saved to: {output_path}\")\n",
        "\n",
        "            # Call the processing function\n",
        "            print(\"Calling denoise_and_segment_image...\")\n",
        "            result = denoise_and_segment_image(\n",
        "                img=img,\n",
        "                img_name=file_name,\n",
        "                output_path=output_path,   \n",
        "                denoise_model=denoise_model,\n",
        "                cellpose_model=cellpose_model\n",
        "            )\n",
        "            print(\"Finished processing image\")\n",
        "\n",
        "            i += 1\n",
        "            print(f\"Successfully processed [{img_name}]. Output saved as: {output_path}\")\n",
        "\n",
        "        except Exception as e:\n",
        "            print(f\"Error processing {file_path}: {str(e)}\")\n",
        "            continue"
      ]
    },
    {
      "cell_type": "code",
      "execution_count": 43,
      "metadata": {},
      "outputs": [],
      "source": [
        "def check_files_in_folder(input_folder, output_folder, denoise_model, cellpose_model):\n",
        "    \"\"\"\n",
        "    Process all TIF images in a folder: denoise, segment, and save the output.\n",
        "    \"\"\"\n",
        "    # Print all contents of the input folder\n",
        "    print(f\"Contents of input folder {input_folder}:\")\n",
        "    for item in os.listdir(input_folder):\n",
        "        print(f\"- {item}\")\n",
        "\n",
        "    # Try different extensions\n",
        "    tif_files = []\n",
        "    tif_files.extend(glob.glob(os.path.join(input_folder, \"*.tif\")))\n",
        "    tif_files.extend(glob.glob(os.path.join(input_folder, \"*.tiff\")))\n",
        "    tif_files.extend(glob.glob(os.path.join(input_folder, \"*.TIF\")))\n",
        "    tif_files.extend(glob.glob(os.path.join(input_folder, \"*.TIFF\")))\n",
        "\n",
        "    print(f\"\\nFound {len(tif_files)} TIF files:\")\n",
        "    for file in tif_files:\n",
        "        print(f\"- {file}\")\n",
        "\n",
        "    # Check if the input_folder path is correct\n",
        "    print(f\"\\nFull input folder path: {os.path.abspath(input_folder)}\")\n",
        "\n",
        "    if len(tif_files) == 0:\n",
        "        print(\"\\nNo TIF files found. Please check:\")\n",
        "        print(\"1. The input folder path is correct\")\n",
        "        print(\"2. The files have the correct extension (.tif, .tiff, .TIF, or .TIFF)\")\n",
        "        print(\"3. You have read permissions for the folder\")\n",
        "        return\n",
        "\n",
        "  "
      ]
    },
    {
      "cell_type": "code",
      "execution_count": null,
      "metadata": {},
      "outputs": [],
      "source": [
        "# Example usage\n",
        "process_images_in_folder(\n",
        "    input_folder=\"Image_processing_tools/input/cellpose\",\n",
        "    output_folder=\"Image_processing_tools/output/cellpose\",\n",
        "    denoise_model=denoise_model,\n",
        "    cellpose_model=cellpose_model\n",
        ")"
      ]
    },
    {
      "cell_type": "code",
      "execution_count": null,
      "metadata": {},
      "outputs": [],
      "source": []
    }
  ],
  "metadata": {
    "colab": {
      "machine_shape": "hm",
      "provenance": []
    },
    "kernelspec": {
      "display_name": "cellpose",
      "language": "python",
      "name": "python3"
    },
    "language_info": {
      "codemirror_mode": {
        "name": "ipython",
        "version": 3
      },
      "file_extension": ".py",
      "mimetype": "text/x-python",
      "name": "python",
      "nbconvert_exporter": "python",
      "pygments_lexer": "ipython3",
      "version": "3.10.16"
    }
  },
  "nbformat": 4,
  "nbformat_minor": 0
}
