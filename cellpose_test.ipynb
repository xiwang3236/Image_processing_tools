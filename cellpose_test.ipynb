{
 "cells": [
  {
   "cell_type": "code",
   "execution_count": 1,
   "metadata": {},
   "outputs": [],
   "source": [
    "from cellpose import models\n",
    "import numpy as np\n",
    "import tifffile\n",
    "\n",
    "# Load your 3D training data\n",
    "\n",
    "X_train = tifffile.imread('train\\E3H5_round1_cropped_section_0.tif')\n",
    "\n"
   ]
  },
  {
   "cell_type": "code",
   "execution_count": 2,
   "metadata": {},
   "outputs": [],
   "source": [
    "y_train = np.load('train\\E3H5_round1_cropped_section_0_seg.npy', allow_pickle=True)   # Shape: (N, Z, Y, X)\n"
   ]
  },
  {
   "cell_type": "code",
   "execution_count": 3,
   "metadata": {},
   "outputs": [],
   "source": [
    "# Initialize model with pretrained_model='cyto3' for 3D\n",
    "model = models.CellposeModel(gpu=True, model_type='nuclei')\n"
   ]
  },
  {
   "cell_type": "code",
   "execution_count": 4,
   "metadata": {},
   "outputs": [
    {
     "name": "stderr",
     "output_type": "stream",
     "text": [
      "training data or labels are not at least two-dimensional\n"
     ]
    },
    {
     "ename": "ValueError",
     "evalue": "training data or labels are not at least two-dimensional",
     "output_type": "error",
     "traceback": [
      "\u001b[1;31m---------------------------------------------------------------------------\u001b[0m",
      "\u001b[1;31mValueError\u001b[0m                                Traceback (most recent call last)",
      "Cell \u001b[1;32mIn[4], line 5\u001b[0m\n\u001b[0;32m      2\u001b[0m \u001b[38;5;28;01mfrom\u001b[39;00m \u001b[38;5;21;01mcellpose\u001b[39;00m \u001b[38;5;28;01mimport\u001b[39;00m train\n\u001b[0;32m      4\u001b[0m \u001b[38;5;66;03m# Train\u001b[39;00m\n\u001b[1;32m----> 5\u001b[0m \u001b[43mtrain\u001b[49m\u001b[38;5;241;43m.\u001b[39;49m\u001b[43mtrain_seg\u001b[49m\u001b[43m(\u001b[49m\u001b[43mmodel\u001b[49m\u001b[38;5;241;43m.\u001b[39;49m\u001b[43mnet\u001b[49m\u001b[43m,\u001b[49m\n\u001b[0;32m      6\u001b[0m \u001b[43m                \u001b[49m\u001b[43mtrain_data\u001b[49m\u001b[38;5;241;43m=\u001b[39;49m\u001b[43m[\u001b[49m\u001b[43mX_train\u001b[49m\u001b[43m]\u001b[49m\u001b[43m,\u001b[49m\n\u001b[0;32m      7\u001b[0m \u001b[43m                \u001b[49m\u001b[43mtrain_labels\u001b[49m\u001b[38;5;241;43m=\u001b[39;49m\u001b[43m[\u001b[49m\u001b[43my_train\u001b[49m\u001b[43m]\u001b[49m\u001b[43m,\u001b[49m\n\u001b[0;32m      8\u001b[0m \u001b[43m                \u001b[49m\u001b[43mchannels\u001b[49m\u001b[38;5;241;43m=\u001b[39;49m\u001b[43m[\u001b[49m\u001b[38;5;241;43m0\u001b[39;49m\u001b[43m,\u001b[49m\u001b[38;5;241;43m0\u001b[39;49m\u001b[43m]\u001b[49m\u001b[43m,\u001b[49m\n\u001b[0;32m      9\u001b[0m \u001b[43m                \u001b[49m\u001b[43mbatch_size\u001b[49m\u001b[38;5;241;43m=\u001b[39;49m\u001b[38;5;241;43m4\u001b[39;49m\u001b[43m,\u001b[49m\u001b[43m  \u001b[49m\u001b[38;5;66;43;03m# Reduced for 3D\u001b[39;49;00m\n\u001b[0;32m     10\u001b[0m \u001b[43m                \u001b[49m\u001b[43mlearning_rate\u001b[49m\u001b[38;5;241;43m=\u001b[39;49m\u001b[38;5;241;43m0.005\u001b[39;49m\u001b[43m,\u001b[49m\n\u001b[0;32m     11\u001b[0m \u001b[43m                \u001b[49m\u001b[43mn_epochs\u001b[49m\u001b[38;5;241;43m=\u001b[39;49m\u001b[38;5;241;43m2000\u001b[39;49m\u001b[43m,\u001b[49m\n\u001b[0;32m     12\u001b[0m \u001b[43m                \u001b[49m\u001b[43msave_path\u001b[49m\u001b[38;5;241;43m=\u001b[39;49m\u001b[38;5;124;43m'\u001b[39;49m\u001b[38;5;124;43mmodel_output\u001b[39;49m\u001b[38;5;124;43m'\u001b[39;49m\u001b[43m)\u001b[49m\n",
      "File \u001b[1;32mg:\\Alexis_data\\Project\\cellpose-env\\Lib\\site-packages\\cellpose\\train.py:391\u001b[0m, in \u001b[0;36mtrain_seg\u001b[1;34m(net, train_data, train_labels, train_files, train_labels_files, train_probs, test_data, test_labels, test_files, test_labels_files, test_probs, load_files, batch_size, learning_rate, n_epochs, weight_decay, momentum, SGD, channels, channel_axis, rgb, normalize, compute_flows, save_path, save_every, save_each, nimg_per_epoch, nimg_test_per_epoch, rescale, scale_range, bsize, min_train_masks, model_name)\u001b[0m\n\u001b[0;32m    388\u001b[0m     normalize_params \u001b[38;5;241m=\u001b[39m models\u001b[38;5;241m.\u001b[39mnormalize_default\n\u001b[0;32m    389\u001b[0m     normalize_params[\u001b[38;5;124m\"\u001b[39m\u001b[38;5;124mnormalize\u001b[39m\u001b[38;5;124m\"\u001b[39m] \u001b[38;5;241m=\u001b[39m normalize\n\u001b[1;32m--> 391\u001b[0m out \u001b[38;5;241m=\u001b[39m \u001b[43m_process_train_test\u001b[49m\u001b[43m(\u001b[49m\u001b[43mtrain_data\u001b[49m\u001b[38;5;241;43m=\u001b[39;49m\u001b[43mtrain_data\u001b[49m\u001b[43m,\u001b[49m\u001b[43m \u001b[49m\u001b[43mtrain_labels\u001b[49m\u001b[38;5;241;43m=\u001b[39;49m\u001b[43mtrain_labels\u001b[49m\u001b[43m,\u001b[49m\n\u001b[0;32m    392\u001b[0m \u001b[43m                          \u001b[49m\u001b[43mtrain_files\u001b[49m\u001b[38;5;241;43m=\u001b[39;49m\u001b[43mtrain_files\u001b[49m\u001b[43m,\u001b[49m\u001b[43m \u001b[49m\u001b[43mtrain_labels_files\u001b[49m\u001b[38;5;241;43m=\u001b[39;49m\u001b[43mtrain_labels_files\u001b[49m\u001b[43m,\u001b[49m\n\u001b[0;32m    393\u001b[0m \u001b[43m                          \u001b[49m\u001b[43mtrain_probs\u001b[49m\u001b[38;5;241;43m=\u001b[39;49m\u001b[43mtrain_probs\u001b[49m\u001b[43m,\u001b[49m\n\u001b[0;32m    394\u001b[0m \u001b[43m                          \u001b[49m\u001b[43mtest_data\u001b[49m\u001b[38;5;241;43m=\u001b[39;49m\u001b[43mtest_data\u001b[49m\u001b[43m,\u001b[49m\u001b[43m \u001b[49m\u001b[43mtest_labels\u001b[49m\u001b[38;5;241;43m=\u001b[39;49m\u001b[43mtest_labels\u001b[49m\u001b[43m,\u001b[49m\n\u001b[0;32m    395\u001b[0m \u001b[43m                          \u001b[49m\u001b[43mtest_files\u001b[49m\u001b[38;5;241;43m=\u001b[39;49m\u001b[43mtest_files\u001b[49m\u001b[43m,\u001b[49m\u001b[43m \u001b[49m\u001b[43mtest_labels_files\u001b[49m\u001b[38;5;241;43m=\u001b[39;49m\u001b[43mtest_labels_files\u001b[49m\u001b[43m,\u001b[49m\n\u001b[0;32m    396\u001b[0m \u001b[43m                          \u001b[49m\u001b[43mtest_probs\u001b[49m\u001b[38;5;241;43m=\u001b[39;49m\u001b[43mtest_probs\u001b[49m\u001b[43m,\u001b[49m\n\u001b[0;32m    397\u001b[0m \u001b[43m                          \u001b[49m\u001b[43mload_files\u001b[49m\u001b[38;5;241;43m=\u001b[39;49m\u001b[43mload_files\u001b[49m\u001b[43m,\u001b[49m\u001b[43m \u001b[49m\u001b[43mmin_train_masks\u001b[49m\u001b[38;5;241;43m=\u001b[39;49m\u001b[43mmin_train_masks\u001b[49m\u001b[43m,\u001b[49m\n\u001b[0;32m    398\u001b[0m \u001b[43m                          \u001b[49m\u001b[43mcompute_flows\u001b[49m\u001b[38;5;241;43m=\u001b[39;49m\u001b[43mcompute_flows\u001b[49m\u001b[43m,\u001b[49m\u001b[43m \u001b[49m\u001b[43mchannels\u001b[49m\u001b[38;5;241;43m=\u001b[39;49m\u001b[43mchannels\u001b[49m\u001b[43m,\u001b[49m\n\u001b[0;32m    399\u001b[0m \u001b[43m                          \u001b[49m\u001b[43mchannel_axis\u001b[49m\u001b[38;5;241;43m=\u001b[39;49m\u001b[43mchannel_axis\u001b[49m\u001b[43m,\u001b[49m\u001b[43m \u001b[49m\u001b[43mrgb\u001b[49m\u001b[38;5;241;43m=\u001b[39;49m\u001b[43mrgb\u001b[49m\u001b[43m,\u001b[49m\n\u001b[0;32m    400\u001b[0m \u001b[43m                          \u001b[49m\u001b[43mnormalize_params\u001b[49m\u001b[38;5;241;43m=\u001b[39;49m\u001b[43mnormalize_params\u001b[49m\u001b[43m,\u001b[49m\u001b[43m \u001b[49m\u001b[43mdevice\u001b[49m\u001b[38;5;241;43m=\u001b[39;49m\u001b[43mnet\u001b[49m\u001b[38;5;241;43m.\u001b[39;49m\u001b[43mdevice\u001b[49m\u001b[43m)\u001b[49m\n\u001b[0;32m    401\u001b[0m (train_data, train_labels, train_files, train_labels_files, train_probs, diam_train,\n\u001b[0;32m    402\u001b[0m  test_data, test_labels, test_files, test_labels_files, test_probs, diam_test,\n\u001b[0;32m    403\u001b[0m  normed) \u001b[38;5;241m=\u001b[39m out\n\u001b[0;32m    404\u001b[0m \u001b[38;5;66;03m# already normalized, do not normalize during training\u001b[39;00m\n",
      "File \u001b[1;32mg:\\Alexis_data\\Project\\cellpose-env\\Lib\\site-packages\\cellpose\\train.py:233\u001b[0m, in \u001b[0;36m_process_train_test\u001b[1;34m(train_data, train_labels, train_files, train_labels_files, train_probs, test_data, test_labels, test_files, test_labels_files, test_probs, load_files, min_train_masks, compute_flows, channels, channel_axis, rgb, normalize_params, device)\u001b[0m\n\u001b[0;32m    231\u001b[0m     error_message \u001b[38;5;241m=\u001b[39m \u001b[38;5;124m\"\u001b[39m\u001b[38;5;124mtraining data or labels are not at least two-dimensional\u001b[39m\u001b[38;5;124m\"\u001b[39m\n\u001b[0;32m    232\u001b[0m     train_logger\u001b[38;5;241m.\u001b[39mcritical(error_message)\n\u001b[1;32m--> 233\u001b[0m     \u001b[38;5;28;01mraise\u001b[39;00m \u001b[38;5;167;01mValueError\u001b[39;00m(error_message)\n\u001b[0;32m    234\u001b[0m \u001b[38;5;28;01mif\u001b[39;00m train_data[\u001b[38;5;241m0\u001b[39m]\u001b[38;5;241m.\u001b[39mndim \u001b[38;5;241m>\u001b[39m \u001b[38;5;241m3\u001b[39m:\n\u001b[0;32m    235\u001b[0m     error_message \u001b[38;5;241m=\u001b[39m \u001b[38;5;124m\"\u001b[39m\u001b[38;5;124mtraining data is more than three-dimensional (should be 2D or 3D array)\u001b[39m\u001b[38;5;124m\"\u001b[39m\n",
      "\u001b[1;31mValueError\u001b[0m: training data or labels are not at least two-dimensional"
     ]
    }
   ],
   "source": [
    "# Train the model\n",
    "from cellpose import train\n",
    "\n",
    "# Train\n",
    "train.train_seg(model.net,\n",
    "                train_data=[X_train],\n",
    "                train_labels=[y_train],\n",
    "                channels=[0,0],\n",
    "                batch_size=4,  # Reduced for 3D\n",
    "                learning_rate=0.005,\n",
    "                n_epochs=2000,\n",
    "                save_path='model_output')"
   ]
  }
 ],
 "metadata": {
  "kernelspec": {
   "display_name": "Python 3",
   "language": "python",
   "name": "python3"
  },
  "language_info": {
   "codemirror_mode": {
    "name": "ipython",
    "version": 3
   },
   "file_extension": ".py",
   "mimetype": "text/x-python",
   "name": "python",
   "nbconvert_exporter": "python",
   "pygments_lexer": "ipython3",
   "version": "3.11.10"
  }
 },
 "nbformat": 4,
 "nbformat_minor": 2
}
