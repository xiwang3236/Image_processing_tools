{
 "cells": [
  {
   "cell_type": "markdown",
   "metadata": {},
   "source": [
    "# 1. Cellpose Segmentation"
   ]
  },
  {
   "cell_type": "code",
   "execution_count": 1,
   "metadata": {},
   "outputs": [],
   "source": [
    "import sys\n",
    "import os\n",
    "sys.path.append(os.path.abspath(os.getcwd()))"
   ]
  },
  {
   "cell_type": "code",
   "execution_count": 2,
   "metadata": {},
   "outputs": [],
   "source": [
    "from src.segmentation import CellposeSegmenter"
   ]
  },
  {
   "cell_type": "code",
   "execution_count": 3,
   "metadata": {},
   "outputs": [
    {
     "name": "stdout",
     "output_type": "stream",
     "text": [
      "Initializing denoise model...\n",
      "Denoise model initialized\n",
      "Initializing cellpose model...\n",
      "Cellpose model initialized\n"
     ]
    }
   ],
   "source": [
    "# Initialize the CellposeSegmenter\n",
    "segmenter = CellposeSegmenter(\n",
    "    gpu=True,  # Set to False if you don't have GPU\n",
    "    model_type='nuclei',\n",
    "    diam_mean=19.0\n",
    ")"
   ]
  },
  {
   "cell_type": "code",
   "execution_count": 4,
   "metadata": {},
   "outputs": [
    {
     "name": "stdout",
     "output_type": "stream",
     "text": [
      "Checking input folder: data/input\n",
      "Contents of input folder data/input:\n",
      "- cropped_polygon_x3000_y12000_width800.tif\n",
      "- cropped_polygon_x7247_y14117_width800.tif\n"
     ]
    }
   ],
   "source": [
    "# Check files in your folders\n",
    "# Make sure to use relative paths from where your notebook is\n",
    "results = segmenter.check_files_in_folder(\n",
    "    input_folder=\"data/input\",\n",
    "    output_folder=\"data/output\"\n",
    ")"
   ]
  },
  {
   "cell_type": "code",
   "execution_count": null,
   "metadata": {},
   "outputs": [],
   "source": [
    "segmenter.process_images_in_folder(\"data/input\", \"data/output\")"
   ]
  }
 ],
 "metadata": {
  "kernelspec": {
   "display_name": "Python 3",
   "language": "python",
   "name": "python3"
  },
  "language_info": {
   "codemirror_mode": {
    "name": "ipython",
    "version": 3
   },
   "file_extension": ".py",
   "mimetype": "text/x-python",
   "name": "python",
   "nbconvert_exporter": "python",
   "pygments_lexer": "ipython3",
   "version": "3.11.10"
  }
 },
 "nbformat": 4,
 "nbformat_minor": 2
}
